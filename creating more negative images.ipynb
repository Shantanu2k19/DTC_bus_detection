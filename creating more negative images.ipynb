{
 "cells": [
  {
   "cell_type": "code",
   "execution_count": 18,
   "id": "5412f106",
   "metadata": {},
   "outputs": [],
   "source": [
    "import cv2\n",
    "import os\n",
    "from os import listdir\n",
    "from os.path import isfile, join\n",
    "import shutil\n",
    "import matplotlib.pyplot as plt"
   ]
  },
  {
   "cell_type": "code",
   "execution_count": 24,
   "id": "1929e9ed",
   "metadata": {},
   "outputs": [],
   "source": [
    "p1 = \"/home/zodiac/Desktop/DL/data/thu/negative2\"\n",
    "p2 = \"/home/zodiac/Desktop/DL/data/createdNegatives\""
   ]
  },
  {
   "cell_type": "code",
   "execution_count": 21,
   "id": "50f289cd",
   "metadata": {},
   "outputs": [],
   "source": [
    "of = [f for f in listdir(p1) if isfile(join(p1, f))]"
   ]
  },
  {
   "cell_type": "code",
   "execution_count": 27,
   "id": "1a358274",
   "metadata": {},
   "outputs": [],
   "source": [
    "for x in of:\n",
    "    op = os.path.join(p1, x)\n",
    "    ll = x.split('.')\n",
    "    newP1 = os.path.join(p2,\"lol1\"+x)\n",
    "    newP2 = os.path.join(p2,\"lol2\"+x)\n",
    "    \n",
    "    \n",
    "    img = cv2.imread(op)\n",
    "    \n",
    "    img1 = img.copy()\n",
    "    img1 = img1[0:1080, 0:1080]\n",
    "    img1 = cv2.resize(img1, (0, 0), fx = 0.093, fy = 0.093)\n",
    "    img1 = cv2.cvtColor(img1, cv2.COLOR_BGR2GRAY)\n",
    "    \n",
    "    img2 = img.copy()\n",
    "    img2 = img2[840:1920, 0:1080]\n",
    "    img2 = cv2.resize(img2, (0, 0), fx = 0.093, fy = 0.093)\n",
    "    img2 = cv2.cvtColor(img2, cv2.COLOR_BGR2GRAY)\n",
    "    \n",
    "    cv2.imwrite(newP1,img1)\n",
    "    cv2.imwrite(newP2,img2)"
   ]
  },
  {
   "cell_type": "code",
   "execution_count": null,
   "id": "32a3f54a",
   "metadata": {},
   "outputs": [],
   "source": []
  },
  {
   "cell_type": "code",
   "execution_count": null,
   "id": "7c7f54ac",
   "metadata": {},
   "outputs": [],
   "source": []
  },
  {
   "cell_type": "code",
   "execution_count": null,
   "id": "d58c4490",
   "metadata": {},
   "outputs": [],
   "source": []
  },
  {
   "cell_type": "code",
   "execution_count": 28,
   "id": "7cd3d0d0",
   "metadata": {},
   "outputs": [],
   "source": [
    "p1 = \"/home/zodiac/Desktop/DL/data/fri/newData/negative\"\n",
    "p2 = \"/home/zodiac/Desktop/DL/data/createdNegatives\"\n",
    "\n",
    "of = [f for f in listdir(p1) if isfile(join(p1, f))]"
   ]
  },
  {
   "cell_type": "code",
   "execution_count": 30,
   "id": "d070fda9",
   "metadata": {},
   "outputs": [],
   "source": [
    "for x in of:\n",
    "    op = os.path.join(p1, x)\n",
    "    ll = x.split('.')\n",
    "    newP1 = os.path.join(p2,\"lmao1\"+x)\n",
    "    newP2 = os.path.join(p2,\"lmao2\"+x)\n",
    "    \n",
    "    \n",
    "    img = cv2.imread(op)\n",
    "    \n",
    "    img1 = img.copy()\n",
    "    img1 = img1[0:1080, 0:1080]y\n",
    "    img1 = cv2.resize(img1, (0, 0), fx = 0.093, fy = 0.093)\n",
    "    img1 = cv2.cvtColor(img1, cv2.COLOR_BGR2GRAY)\n",
    "    \n",
    "    img2 = img.copy()\n",
    "    img2 = img2[840:1920, 0:1080]\n",
    "    img2 = cv2.resize(img2, (0, 0), fx = 0.093, fy = 0.093)\n",
    "    img2 = cv2.cvtColor(img2, cv2.COLOR_BGR2GRAY)\n",
    "    \n",
    "    cv2.imwrite(newP1,img1)\n",
    "    cv2.imwrite(newP2,img2)\n",
    "#     break"
   ]
  },
  {
   "cell_type": "code",
   "execution_count": null,
   "id": "780e311e",
   "metadata": {},
   "outputs": [],
   "source": []
  },
  {
   "cell_type": "code",
   "execution_count": null,
   "id": "cc02f13e",
   "metadata": {},
   "outputs": [],
   "source": []
  },
  {
   "cell_type": "code",
   "execution_count": null,
   "id": "b678ce5b",
   "metadata": {},
   "outputs": [],
   "source": []
  },
  {
   "cell_type": "code",
   "execution_count": 31,
   "id": "4e0ee246",
   "metadata": {},
   "outputs": [],
   "source": [
    "#creating txt for negative"
   ]
  },
  {
   "cell_type": "code",
   "execution_count": 32,
   "id": "2c69a89d",
   "metadata": {},
   "outputs": [],
   "source": [
    "file2 = open(\"/home/zodiac/Desktop/DL/data/createdNegatives/selfNeg.txt\", \"wt\")\n",
    "directory = \"/home/zodiac/Desktop/DL/data/createdNegatives\"\n",
    "\n",
    "for filename in os.listdir(directory):\n",
    "    f = os.path.join(directory, filename)\n",
    "    if os.path.isfile(f):\n",
    "        file2.write(filename+\"\\n\")\n",
    "file2.close()"
   ]
  },
  {
   "cell_type": "code",
   "execution_count": null,
   "id": "b4504aab",
   "metadata": {},
   "outputs": [],
   "source": []
  }
 ],
 "metadata": {
  "kernelspec": {
   "display_name": "Python 3 (ipykernel)",
   "language": "python",
   "name": "python3"
  },
  "language_info": {
   "codemirror_mode": {
    "name": "ipython",
    "version": 3
   },
   "file_extension": ".py",
   "mimetype": "text/x-python",
   "name": "python",
   "nbconvert_exporter": "python",
   "pygments_lexer": "ipython3",
   "version": "3.8.3"
  }
 },
 "nbformat": 4,
 "nbformat_minor": 5
}
